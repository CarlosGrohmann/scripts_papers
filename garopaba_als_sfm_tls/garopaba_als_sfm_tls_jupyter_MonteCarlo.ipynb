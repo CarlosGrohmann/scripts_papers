{
 "cells": [
  {
   "cell_type": "code",
   "execution_count": 1,
   "metadata": {},
   "outputs": [],
   "source": [
    "##############################################################################\n",
    "# Script used in the paper:\n",
    "# Dune migration and volume change from airborne LiDAR, terrestrial LiDAR \n",
    "# and Structure from Motion--Multi View Stereo\n",
    "# by\n",
    "# Carlos H. Grohmann et al - 2019/2020\n",
    "# guano (at) usp (dot) br\n",
    "# Institute of Energy and Environment - University of Sao Paulo\n",
    "#\n",
    "# Please check the GitHub repo for the final reference to the paper\n",
    "##############################################################################"
   ]
  },
  {
   "cell_type": "markdown",
   "metadata": {},
   "source": [
    "#### Monte Carlo analysis of random points\n",
    "\n",
    "To compare the elevation of elevation datasets, a few key points must be considered beforehand, such as spatial resolution, presence of voids and number of samples used in the analysis. A direct comparison of the raster datasets on a pixel-by-pixel basis, is not the best approach, since differences in pixel size and presence of voids could affect correlation analysis, and the large number of samples would impact descriptive statistics, goodness-of-fit and error measurements. \n",
    "\n",
    "A random sample of elevation values can overcome these issues, but raises the question of how many data points are needed to properly represent the original dataset. To answer this question, a Monte Carlo approach was devised in the following form:\n",
    "\n",
    "- the model was run 50 times;\n",
    "- the number of random points analyzed was n=50, 100, 250, 500, 1000, 2500, 5000 and 10000;\n",
    "- in each run, *n* random points were created and elevation was extracted from SRTM;\n",
    "- after 50 runs, correlation was calculated between the first and the 49 subsequent sets of *n* random points;\n",
    "- a Four Parameter Logistic Regression (4PL) was calculated for the mean value of correlation of each set of *n* random points.\n",
    "\n",
    "In order to ensure reproducibility of the analysis, the random seed used to generate points was set to the sequential number of each model run (0,1,2,3,...,49) multiplied by a constant. Results of this approach have shown that for the TLS aurvey area, 1000 random points can be used to describe the elevation of the dataset."
   ]
  },
  {
   "cell_type": "code",
   "execution_count": 2,
   "metadata": {},
   "outputs": [],
   "source": [
    "# 1 - Extract elevation for sets of randon points [50,100,250,500,1000,2000,5000,10000] and then\n",
    "# calculate stats for each. \n",
    "\n",
    "# MonteCarlo-like analysis:\n",
    "# 0 - for a series of n random points [50,100,250,500,1000,2000,5000,10000]:\n",
    "# 1 - get X sets of n random points (rand_n_01, rand_n_02, rand_n_03,...) - sorted\n",
    "# 2 - calculate correlation between first set and all others\n",
    "# 3 - put data in a table and plot the results\n",
    "# 4 - make plot off all values (X = n_points, Y = correlation)"
   ]
  },
  {
   "cell_type": "code",
   "execution_count": 3,
   "metadata": {},
   "outputs": [],
   "source": [
    "# import python libraries\n",
    "import sys, os, itertools\n",
    "import numpy as np\n",
    "import scipy.stats as ss\n",
    "import matplotlib.pyplot as plt\n",
    "import matplotlib as mpl\n",
    "import pandas as pd\n",
    "import seaborn as sns\n",
    "import subprocess\n",
    "from IPython.display import Image # can use this to display GRASS maps\n",
    "# stats\n",
    "from statsmodels.graphics.gofplots import qqplot\n",
    "from scipy.stats import linregress\n",
    "from scipy.optimize import leastsq"
   ]
  },
  {
   "cell_type": "code",
   "execution_count": 4,
   "metadata": {},
   "outputs": [],
   "source": [
    "# helper func: delete all *random maps\n",
    "def clean_rand():\n",
    "    grass.run_command('g.remove', type='vector', pattern='*random*', flags='f')"
   ]
  },
  {
   "cell_type": "code",
   "execution_count": 5,
   "metadata": {},
   "outputs": [],
   "source": [
    "# helper func: round to nearest 5\n",
    "def round5(x):\n",
    "    rounded = int(round(x/5.0)*5.0)\n",
    "    return rounded"
   ]
  },
  {
   "cell_type": "code",
   "execution_count": 6,
   "metadata": {},
   "outputs": [],
   "source": [
    "# aux func: sample DEMs elevations\n",
    "# requires dbsae connection in GRASS to be SQLITE\n",
    "def sample_dems_mc(dem, n_points, mc_run, ow_vector, ow_what, vmask):\n",
    "    ''' create random points for selected tile and sample the elevation values \n",
    "    simplified version of sample_dems tailored for MonteCarlo-like analysis\n",
    "    dem = raster map (elevation)\n",
    "    n_points = number of random points\n",
    "    mc_run = number of times a set of random pints will be created \n",
    "    ow_vector = should vector maps be overwritten?\n",
    "    ow_what = re-run v.what.rast ? \n",
    "    vmask = vector mask to restrict points\n",
    "\n",
    "    note: to keep random points really randon and yet ensure reproducibility,\n",
    "    random seed is set to the value of mc_run * 42'''\n",
    "    \n",
    "    grass.run_command('g.region', raster=dem, flags='a')\n",
    "    \n",
    "    # random points \n",
    "    vector_name = dem.split('_')[0] +'_random_' + str(n_points) + '_' + str(mc_run).zfill(2)\n",
    "    grass.run_command('v.random', output=vector_name, npoints=n_points, restrict=vmask, seed=mc_run*42, quiet=True, overwrite=ow_vector) \n",
    "    rand_col = 'rand_' + str(n_points) + '_' + str(mc_run)\n",
    "    grass.run_command('v.db.addtable', map=vector_name, columns=rand_col+' double precision', quiet=True, overwrite=ow_vector)\n",
    "        \n",
    "    # sample raster map - force if overwrite vector is true\n",
    "    if ow_vector or ow_what:\n",
    "        grass.run_command('v.what.rast', map=vector_name, raster=dem, column=rand_col, quiet=True)\n",
    "        \n",
    "    # export as ascii and read into python\n",
    "    xyz = grass.read_command('v.out.ascii', input=vector_name, type='point', format='point', columns=rand_col, overwrite=True)\n",
    "    elev_list = [float(attr.split('|')[3]) if attr.split('|')[3] != '' else None for attr in xyz.split('\\n')[:-1]]\n",
    "    elev = np.asarray(elev_list, dtype=np.float64)\n",
    "    \n",
    "    return elev"
   ]
  },
  {
   "cell_type": "code",
   "execution_count": 7,
   "metadata": {},
   "outputs": [],
   "source": [
    "# aux func: fits a 4PL curve to mean of correlation values\n",
    "# plots and funcs from http://people.duke.edu/~ccc14/pcfb/analysis.html\n",
    "def logistic4(x, A, B, C, D):\n",
    "    ''' 4PL logistic equation ''' \n",
    "    return ((A-D)/(1.0+((x/C)**B))) + D\n",
    "\n",
    "def residuals(p, y, x):\n",
    "    ''' Deviations of data from fitted 4PL curve ''' \n",
    "    A,B,C,D = p\n",
    "    err = y-logistic4(x, A, B, C, D)\n",
    "    return err\n",
    "\n",
    "def peval(x, p):\n",
    "    ''' Evaluated value at x with current parameters ''' \n",
    "    A,B,C,D = p\n",
    "    return logistic4(x, A, B, C, D)"
   ]
  },
  {
   "cell_type": "code",
   "execution_count": 8,
   "metadata": {},
   "outputs": [],
   "source": [
    "# matplotlib figures appear inline in the notebook rather than in a new window.\n",
    "%matplotlib inline"
   ]
  },
  {
   "cell_type": "code",
   "execution_count": 9,
   "metadata": {},
   "outputs": [],
   "source": [
    "# create GRASS GIS runtime environment\n",
    "# with this, you can run GRASS without startig a shell/gui session\n",
    "gisbase = subprocess.check_output([\"grass76\", \"--config\", \"path\"]).strip()\n",
    "os.environ['GISBASE'] = gisbase\n",
    "sys.path.append(os.path.join(gisbase, \"etc\", \"python\"))\n",
    "\n",
    "# GRASS GIS imports\n",
    "import grass.script as grass\n",
    "import grass.script.setup as gsetup\n",
    "import grass.script.array as garray\n",
    "import grass.script.vector as gvect"
   ]
  },
  {
   "cell_type": "code",
   "execution_count": 10,
   "metadata": {},
   "outputs": [],
   "source": [
    "# set GRASS GIS session data\n",
    "# I use two systems, so this makes things a bit easier\n",
    "if sys.platform == \"linux\" or sys.platform == \"linux2\":\n",
    "    rcfile = gsetup.init(gisbase, \"/mnt/sda/grassdata/\", \"utm\", \"garopaba_22J\")\n",
    "elif sys.platform == \"darwin\":\n",
    "    rcfile = gsetup.init(gisbase, \"/Volumes/MacintoshHD2/grassdata/\", \"utm\", \"garopaba_22J\")\n",
    "# elif platform == \"win32\":\n",
    "    # Windows...\n",
    "    \n",
    "# grass.message('Current GRASS GIS 7 environment:')\n",
    "# print grass.gisenv()"
   ]
  },
  {
   "cell_type": "code",
   "execution_count": 11,
   "metadata": {},
   "outputs": [],
   "source": [
    "# overwrite for GRASS modules\n",
    "ow = True"
   ]
  },
  {
   "cell_type": "code",
   "execution_count": 12,
   "metadata": {},
   "outputs": [],
   "source": [
    "# Data dir \n",
    "# use this to set different paths for different systems\n",
    "if sys.platform == \"linux\" or sys.platform == \"linux2\":\n",
    "    dataDir = '/mnt/sda/Dropbox/USP/projetosPesquisa/LiDAR_terrestre_SfM/_areas_estudo/garopaba/monteCarlo/'\n",
    "elif sys.platform == \"darwin\":\n",
    "    dataDir = '/Volumes/MacintoshHD2/Dropbox/USP/projetosPesquisa/LiDAR_terrestre_SfM/_areas_estudo/garopaba/monteCarlo/'\n",
    "#     dataDir = '_path_to_your_files_'\n",
    "os.chdir(dataDir)\n",
    "# os.getcwd()"
   ]
  },
  {
   "cell_type": "code",
   "execution_count": 13,
   "metadata": {},
   "outputs": [],
   "source": [
    "# names for the files\n",
    "method='bilinear'\n",
    "step = 0.4\n",
    "dem_tls_10cm = 'tls_rinxyz_mean_10cm_' + method + '_step_' + str(step)\n",
    "dem_sfm_10cm = 'sfm_rinxyz_mean_10cm_' + method + '_step_' + str(step)\n",
    "diff_sfm_tls_10cm = 'diff_10cm_sfm_tls'\n",
    "mask_tls_sfm = 'mask_tls_sfm'"
   ]
  },
  {
   "cell_type": "code",
   "execution_count": 14,
   "metadata": {},
   "outputs": [],
   "source": [
    "n_random = 50 # n runs \n",
    "npoints_list = [50,100,250,500,1000,2500,5000,10000]\n",
    "dem_list = [dem_tls_10cm,dem_sfm_10cm]"
   ]
  },
  {
   "cell_type": "code",
   "execution_count": 15,
   "metadata": {},
   "outputs": [],
   "source": [
    "# run monte carlo sampling and save data as csv\n",
    "for dem,points in itertools.product(dem_list, npoints_list):\n",
    "    df = pd.DataFrame()\n",
    "    file_out = dem + '_rand_MC_' + str(points)\n",
    "    for run in range(n_random):\n",
    "        col_name = 'rand_' + str(points) + '_' + str(run).zfill(2)\n",
    "        elev = sample_dems_mc(dem, points, mc_run=run, ow_vector=True, ow_what=True, vmask=mask_tls_sfm)\n",
    "        df[col_name] = np.sort(elev)\n",
    "        df.to_csv(path_or_buf=file_out+'.csv', na_rep='NaN')"
   ]
  },
  {
   "cell_type": "code",
   "execution_count": 16,
   "metadata": {},
   "outputs": [
    {
     "data": {
      "image/png": "[encoded data removed]",
      "text/plain": [
       "<matplotlib.figure.Figure at 0x104278ad0>"
      ]
     },
     "metadata": {
      "needs_background": "light"
     },
     "output_type": "display_data"
    }
   ],
   "source": [
    "# reads data from csv files and calculates correlation\n",
    "dem = dem_tls_10cm\n",
    "avg_corr = []\n",
    "df_corr = pd.DataFrame()\n",
    "for points in npoints_list:\n",
    "    csv_file = dem + '_rand_MC_' + str(points) + '.csv'\n",
    "    #\n",
    "    df = pd.read_csv(csv_file, index_col=0)\n",
    "    # correlation of first column[0] with  all the others [1:]. \n",
    "    # No need to define column by name\n",
    "    corr = df.corr().iloc[0,1:]\n",
    "    avg_corr.append(corr.mean())\n",
    "    #\n",
    "    # plot correlation values for this set of random points\n",
    "    x_ax = np.empty(n_random -1)\n",
    "    x_ax.fill(points)\n",
    "    plt.plot(x_ax, corr, 'o')\n",
    "    plt.title(dem)"
   ]
  },
  {
   "cell_type": "code",
   "execution_count": 17,
   "metadata": {},
   "outputs": [
    {
     "data": {
      "text/plain": [
       "Text(0.5,1,u'tls_rinxyz_mean_10cm_bilinear_step_0.4')"
      ]
     },
     "execution_count": 17,
     "metadata": {},
     "output_type": "execute_result"
    },
    {
     "data": {
      "image/png": "[encoded data removed]",
      "text/plain": [
       "<matplotlib.figure.Figure at 0x1134d8910>"
      ]
     },
     "metadata": {
      "needs_background": "light"
     },
     "output_type": "display_data"
    }
   ],
   "source": [
    "# curve fitting for mean of correlation values\n",
    "# Initial guess for curve fitting parameters\n",
    "p0 = [1, 1, 1, 1]\n",
    "# observations\n",
    "x = npoints_list\n",
    "y_meas = avg_corr\n",
    "# least-squares fitting\n",
    "plsq = leastsq(residuals, p0, args=(y_meas, x)) \n",
    "equation = 'y = ((A-D)/(1.0+((x/C)**B))) + D' \n",
    "A = plsq[0][0]\n",
    "B = plsq[0][1]\n",
    "C = plsq[0][2]\n",
    "D = plsq[0][3]\n",
    "\n",
    "# sequence of values for curve plotting\n",
    "xx=np.arange(0,10500,25)\n",
    "# plot fitted curve\n",
    "plt.plot(xx, peval(xx,plsq[0]), color='0.5', lw=0.9)\n",
    "plt.plot(x, y_meas, 'o', color='0.5', ms=5)\n",
    "plt.title(dem)"
   ]
  },
  {
   "cell_type": "code",
   "execution_count": 18,
   "metadata": {},
   "outputs": [],
   "source": [
    "clean_rand()"
   ]
  },
  {
   "cell_type": "code",
   "execution_count": 19,
   "metadata": {},
   "outputs": [],
   "source": [
    "# end GRASS GIS session\n",
    "os.remove(rcfile)"
   ]
  },
  {
   "cell_type": "code",
   "execution_count": null,
   "metadata": {},
   "outputs": [],
   "source": []
  }
 ],
 "metadata": {
  "kernelspec": {
   "display_name": "Python 2",
   "language": "python",
   "name": "python2"
  },
  "language_info": {
   "codemirror_mode": {
    "name": "ipython",
    "version": 2
   },
   "file_extension": ".py",
   "mimetype": "text/x-python",
   "name": "python",
   "nbconvert_exporter": "python",
   "pygments_lexer": "ipython2",
   "version": "2.7.16"
  }
 },
 "nbformat": 4,
 "nbformat_minor": 2
}
